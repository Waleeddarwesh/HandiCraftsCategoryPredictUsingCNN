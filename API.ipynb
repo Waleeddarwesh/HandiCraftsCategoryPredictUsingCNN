{
 "cells": [
  {
   "cell_type": "code",
   "execution_count": 2,
   "id": "6ad0b5ce-e73b-4b12-a012-b4fe4f21c374",
   "metadata": {},
   "outputs": [],
   "source": [
    "import tensorflow as tf\n",
    "import cv2\n",
    "import numpy as np\n",
    "from PIL import Image\n",
    "from flask import request, jsonify, Flask\n",
    "from keras.models import Sequential, load_model\n",
    "from keras import backend as k\n",
    "from tensorflow.keras.preprocessing.image import ImageDataGenerator"
   ]
  },
  {
   "cell_type": "code",
   "execution_count": 3,
   "id": "ba64473d-1963-499a-86b0-94ac21996218",
   "metadata": {
    "scrolled": true
   },
   "outputs": [],
   "source": [
    "# Create Flask app\n",
    "app = Flask(__name__)"
   ]
  },
  {
   "cell_type": "code",
   "execution_count": 4,
   "id": "3af89de8-235b-45ef-8361-174957e7afa0",
   "metadata": {},
   "outputs": [
    {
     "name": "stdout",
     "output_type": "stream",
     "text": [
      "Model loaded!\n"
     ]
    }
   ],
   "source": [
    "# Function to load the models\n",
    "def load_model_fn(path):\n",
    "    model = load_model(path)\n",
    "    print('Model loaded!')\n",
    "    return model\n",
    "\n",
    "load = load_model_fn('./model.keras') "
   ]
  },
  {
   "cell_type": "code",
   "execution_count": 5,
   "id": "e5fce665-81b8-4862-a08d-588c9d3d1f23",
   "metadata": {},
   "outputs": [],
   "source": [
    "# Function to preprocess the image\n",
    "def preprocess_image(image_path, target_size):\n",
    "    try:\n",
    "        # Load the image\n",
    "        image = Image.open(image_path)\n",
    "\n",
    "        # Convert the image to RGB\n",
    "        rgb_image = image.convert(\"RGB\")\n",
    "\n",
    "        # Resize the RGB image\n",
    "        resized_image = rgb_image.resize(target_size)\n",
    "\n",
    "        # Convert the RGB image to a NumPy array\n",
    "        image_array = np.array(resized_image)\n",
    "\n",
    "        # Normalize the image by dividing pixel values by 255\n",
    "        mean_value = 0.5\n",
    "        std_value = 0.5\n",
    "        image_array = (image_array - mean_value) / std_value\n",
    "\n",
    "        # Add batch dimension\n",
    "        image_array = np.expand_dims(image_array, axis=0)\n",
    "\n",
    "        return image_array\n",
    "    except Exception as e:\n",
    "        print(f\"Error preprocessing image: {str(e)}\")\n",
    "        return None"
   ]
  },
  {
   "cell_type": "code",
   "execution_count": 7,
   "id": "92ff6a21-7e0e-4b44-9718-1564c4ff92f5",
   "metadata": {},
   "outputs": [],
   "source": [
    "classes = [\n",
    "                \"bamboo\",\n",
    "                \"candles\",\n",
    "                \"carpets\",\n",
    "                \"crocheting\",\n",
    "                \"jewelry\",\n",
    "                \"leather\",\n",
    "                \"pottery\",\n",
    "                \"sewing\",\n",
    "                \"soap\",\n",
    "                \"wooden\",\n",
    "            ]"
   ]
  },
  {
   "cell_type": "code",
   "execution_count": 8,
   "id": "282476c9-34ff-4811-939d-479ab858940e",
   "metadata": {},
   "outputs": [],
   "source": [
    "@app.route('/predictApi', methods=['POST'])\n",
    "def api():\n",
    "    try:\n",
    "        # Check if the file exists in the request\n",
    "        if 'upload' not in request.files:\n",
    "            return jsonify({\"error\": \"Please upload an image.\"})\n",
    "\n",
    "        # Read the image file from the request\n",
    "        image = request.files.get('upload')\n",
    "\n",
    "        # Preprocess the image\n",
    "        image_arr = preprocess_image(image, target_size=(224, 224))\n",
    "\n",
    "        # Handle error if image preprocessing fails\n",
    "        if image_arr is None:\n",
    "            return jsonify({\"error\": \"Error processing image.\"})\n",
    "\n",
    "        # Make predictions using the loaded model\n",
    "        prediction = load.predict(image_arr)\n",
    "\n",
    "        # Get the predicted class label index and confidence\n",
    "        index_largest_value = np.argmax(prediction[0])\n",
    "        confidence = prediction[0][index_largest_value]\n",
    "\n",
    "        # Check if the confidence is below the threshold\n",
    "        threshold = 0.7  # Set your desired confidence threshold here\n",
    "        if confidence < threshold:\n",
    "            return jsonify({\"error\": \"Confidence below threshold.\"})\n",
    "            #return jsonify({\"error\": \"Photo not found.\"})\n",
    "\n",
    "        result = classes[index_largest_value]\n",
    "\n",
    "        # Check if the predicted class label is in the classes list\n",
    "        if result not in classes:\n",
    "            return jsonify({\"error\": \"Photo not found.\"})\n",
    "\n",
    "        # Return the prediction and confidence as JSON response\n",
    "        return jsonify({\"prediction\": result, \"confidence\": float(confidence)})\n",
    "    except Exception as e:\n",
    "        # Return error message as JSON response\n",
    "        return jsonify({\"error\": str(e)})"
   ]
  },
  {
   "cell_type": "code",
   "execution_count": null,
   "id": "003ef4bf-94fc-4e5a-986f-9b75d080d167",
   "metadata": {},
   "outputs": [
    {
     "name": "stdout",
     "output_type": "stream",
     "text": [
      " * Serving Flask app '__main__'\n",
      " * Debug mode: off\n"
     ]
    },
    {
     "name": "stderr",
     "output_type": "stream",
     "text": [
      "WARNING: This is a development server. Do not use it in a production deployment. Use a production WSGI server instead.\n",
      " * Running on http://127.0.0.1:5000\n",
      "Press CTRL+C to quit\n",
      "127.0.0.1 - - [15/May/2024 18:47:09] \"POST / HTTP/1.1\" 404 -\n"
     ]
    }
   ],
   "source": [
    "if __name__ == \"__main__\":\n",
    "    # Run the Flask app\n",
    "    app.run()"
   ]
  },
  {
   "cell_type": "code",
   "execution_count": null,
   "id": "e96e9600-0e2e-4a85-83c4-28b3c0c32c4b",
   "metadata": {},
   "outputs": [],
   "source": []
  }
 ],
 "metadata": {
  "kernelspec": {
   "display_name": "Python 3 (ipykernel)",
   "language": "python",
   "name": "python3"
  },
  "language_info": {
   "codemirror_mode": {
    "name": "ipython",
    "version": 3
   },
   "file_extension": ".py",
   "mimetype": "text/x-python",
   "name": "python",
   "nbconvert_exporter": "python",
   "pygments_lexer": "ipython3",
   "version": "3.11.7"
  }
 },
 "nbformat": 4,
 "nbformat_minor": 5
}
